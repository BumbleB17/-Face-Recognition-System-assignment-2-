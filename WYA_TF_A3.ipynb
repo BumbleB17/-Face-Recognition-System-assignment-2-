{
  "nbformat": 4,
  "nbformat_minor": 0,
  "metadata": {
    "colab": {
      "name": "WYA_TF_A3",
      "provenance": [],
      "authorship_tag": "ABX9TyPaZDiTRyeVduqTxoFrm/40",
      "include_colab_link": true
    },
    "kernelspec": {
      "name": "python3",
      "display_name": "Python 3"
    }
  },
  "cells": [
    {
      "cell_type": "markdown",
      "metadata": {
        "id": "view-in-github",
        "colab_type": "text"
      },
      "source": [
        "<a href=\"https://colab.research.google.com/github/BumbleB17/-Face-Recognition-System-assignment-2-/blob/main/WYA_TF_A3.ipynb\" target=\"_parent\"><img src=\"https://colab.research.google.com/assets/colab-badge.svg\" alt=\"Open In Colab\"/></a>"
      ]
    },
    {
      "cell_type": "markdown",
      "metadata": {
        "id": "lXeBX40sIOGC"
      },
      "source": [
        "Exercise 1 without **Bias**"
      ]
    },
    {
      "cell_type": "code",
      "metadata": {
        "colab": {
          "base_uri": "https://localhost:8080/"
        },
        "id": "HGnH-iswHaiQ",
        "outputId": "22a11427-3e30-4738-cd5e-4dc683b690f0"
      },
      "source": [
        "from tensorflow.keras import Sequential\n",
        "from tensorflow.keras.layers import Dense\n",
        "\n",
        "model = Sequential([\n",
        "    Dense(5, input_shape = (4,), use_bias = False),\n",
        "    Dense(3, use_bias = False)\n",
        "])\n",
        "\n",
        "model.summary()"
      ],
      "execution_count": null,
      "outputs": [
        {
          "output_type": "stream",
          "text": [
            "Model: \"sequential\"\n",
            "_________________________________________________________________\n",
            "Layer (type)                 Output Shape              Param #   \n",
            "=================================================================\n",
            "dense (Dense)                (None, 5)                 20        \n",
            "_________________________________________________________________\n",
            "dense_1 (Dense)              (None, 3)                 15        \n",
            "=================================================================\n",
            "Total params: 35\n",
            "Trainable params: 35\n",
            "Non-trainable params: 0\n",
            "_________________________________________________________________\n"
          ],
          "name": "stdout"
        }
      ]
    },
    {
      "cell_type": "code",
      "metadata": {
        "id": "2BXQ25HuNGB8"
      },
      "source": [
        "\n",
        "from tensorflow.keras import Sequential\n",
        "from tensorflow.keras.layers import Dense, Flatten, Conv2D, MaxPooling2D, Dropout"
      ],
      "execution_count": null,
      "outputs": []
    },
    {
      "cell_type": "markdown",
      "metadata": {
        "id": "W7ugRy-rIZV-"
      },
      "source": [
        "Exercise 1 with **Bias**"
      ]
    },
    {
      "cell_type": "code",
      "metadata": {
        "colab": {
          "base_uri": "https://localhost:8080/"
        },
        "id": "8SVagdpjH3Za",
        "outputId": "99f5a294-cbc4-4912-cef2-348b9952f81d"
      },
      "source": [
        "\n",
        "\n",
        "model = Sequential([\n",
        "    Dense(5, input_shape = (4,)),\n",
        "    Dense(3)\n",
        "])\n",
        "\n",
        "model.summary()"
      ],
      "execution_count": null,
      "outputs": [
        {
          "output_type": "stream",
          "text": [
            "Model: \"sequential_1\"\n",
            "_________________________________________________________________\n",
            "Layer (type)                 Output Shape              Param #   \n",
            "=================================================================\n",
            "dense_2 (Dense)              (None, 5)                 25        \n",
            "_________________________________________________________________\n",
            "dense_3 (Dense)              (None, 3)                 18        \n",
            "=================================================================\n",
            "Total params: 43\n",
            "Trainable params: 43\n",
            "Non-trainable params: 0\n",
            "_________________________________________________________________\n"
          ],
          "name": "stdout"
        }
      ]
    },
    {
      "cell_type": "markdown",
      "metadata": {
        "id": "Doaf_y8_Ihj4"
      },
      "source": [
        "Exercise 2 "
      ]
    },
    {
      "cell_type": "code",
      "metadata": {
        "colab": {
          "base_uri": "https://localhost:8080/"
        },
        "id": "3bD85zU7H975",
        "outputId": "038251c6-529c-4d5c-8421-400a2f13168c"
      },
      "source": [
        "\n",
        "\n",
        "model = Sequential([\n",
        "    Dense(6, input_shape = (4,)),\n",
        "    Dense(4,),\n",
        "    Dense(3,  activation = 'softmax')\n",
        "    \n",
        "])\n",
        "\n",
        "model.summary()"
      ],
      "execution_count": null,
      "outputs": [
        {
          "output_type": "stream",
          "text": [
            "Model: \"sequential_6\"\n",
            "_________________________________________________________________\n",
            "Layer (type)                 Output Shape              Param #   \n",
            "=================================================================\n",
            "dense_16 (Dense)             (None, 6)                 30        \n",
            "_________________________________________________________________\n",
            "dense_17 (Dense)             (None, 4)                 28        \n",
            "_________________________________________________________________\n",
            "dense_18 (Dense)             (None, 3)                 15        \n",
            "=================================================================\n",
            "Total params: 73\n",
            "Trainable params: 73\n",
            "Non-trainable params: 0\n",
            "_________________________________________________________________\n"
          ],
          "name": "stdout"
        }
      ]
    },
    {
      "cell_type": "markdown",
      "metadata": {
        "id": "YWwZPmTqKwTl"
      },
      "source": [
        "Exercise 3 Dense Layers  (Binary Classification)\n",
        "\n",
        "\n",
        "\n"
      ]
    },
    {
      "cell_type": "code",
      "metadata": {
        "colab": {
          "base_uri": "https://localhost:8080/"
        },
        "id": "zMxzn5GkImR1",
        "outputId": "ff5874b9-de97-465d-eef5-994146cb2564"
      },
      "source": [
        "\n",
        "model = Sequential([\n",
        "    Dense(3, input_shape = (3,)),\n",
        "    Dense(1)\n",
        "])\n",
        "\n",
        "model.summary()"
      ],
      "execution_count": null,
      "outputs": [
        {
          "output_type": "stream",
          "text": [
            "Model: \"sequential_8\"\n",
            "_________________________________________________________________\n",
            "Layer (type)                 Output Shape              Param #   \n",
            "=================================================================\n",
            "dense_21 (Dense)             (None, 3)                 12        \n",
            "_________________________________________________________________\n",
            "dense_22 (Dense)             (None, 1)                 4         \n",
            "=================================================================\n",
            "Total params: 16\n",
            "Trainable params: 16\n",
            "Non-trainable params: 0\n",
            "_________________________________________________________________\n"
          ],
          "name": "stdout"
        }
      ]
    },
    {
      "cell_type": "markdown",
      "metadata": {
        "id": "kmjXjllWLOpi"
      },
      "source": [
        "Exercise 4 – Dense Layers"
      ]
    },
    {
      "cell_type": "code",
      "metadata": {
        "colab": {
          "base_uri": "https://localhost:8080/"
        },
        "id": "BiZIWY9HLRZe",
        "outputId": "041ec99e-b95c-4797-9e8c-4ae3a1cef0df"
      },
      "source": [
        "model = Sequential([\n",
        "    Dense(3, input_shape = (3,)),\n",
        "    Dense(2),\n",
        "    Dense(2)\n",
        "])\n",
        "\n",
        "model.summary()"
      ],
      "execution_count": null,
      "outputs": [
        {
          "output_type": "stream",
          "text": [
            "Model: \"sequential_9\"\n",
            "_________________________________________________________________\n",
            "Layer (type)                 Output Shape              Param #   \n",
            "=================================================================\n",
            "dense_23 (Dense)             (None, 3)                 12        \n",
            "_________________________________________________________________\n",
            "dense_24 (Dense)             (None, 2)                 8         \n",
            "_________________________________________________________________\n",
            "dense_25 (Dense)             (None, 2)                 6         \n",
            "=================================================================\n",
            "Total params: 26\n",
            "Trainable params: 26\n",
            "Non-trainable params: 0\n",
            "_________________________________________________________________\n"
          ],
          "name": "stdout"
        }
      ]
    },
    {
      "cell_type": "markdown",
      "metadata": {
        "id": "tWRCRwnSLpe1"
      },
      "source": [
        "Exercise 5 – Flatten Layer"
      ]
    },
    {
      "cell_type": "code",
      "metadata": {
        "colab": {
          "base_uri": "https://localhost:8080/"
        },
        "id": "7148P1cnLqy6",
        "outputId": "f9924f8c-1e65-474f-c39b-8ea989f97c89"
      },
      "source": [
        "model = Sequential([\n",
        "    Flatten(input_shape = (4,4)),\n",
        "    Dense(4, ),\n",
        "    Dense(2, )\n",
        "])\n",
        "\n",
        "model.summary()"
      ],
      "execution_count": null,
      "outputs": [
        {
          "output_type": "stream",
          "text": [
            "Model: \"sequential_11\"\n",
            "_________________________________________________________________\n",
            "Layer (type)                 Output Shape              Param #   \n",
            "=================================================================\n",
            "flatten_1 (Flatten)          (None, 16)                0         \n",
            "_________________________________________________________________\n",
            "dense_28 (Dense)             (None, 4)                 68        \n",
            "_________________________________________________________________\n",
            "dense_29 (Dense)             (None, 2)                 10        \n",
            "=================================================================\n",
            "Total params: 78\n",
            "Trainable params: 78\n",
            "Non-trainable params: 0\n",
            "_________________________________________________________________\n"
          ],
          "name": "stdout"
        }
      ]
    },
    {
      "cell_type": "markdown",
      "metadata": {
        "id": "jSRgCGxcNdM-"
      },
      "source": [
        "Exercise 6 – CNN Model"
      ]
    },
    {
      "cell_type": "code",
      "metadata": {
        "colab": {
          "base_uri": "https://localhost:8080/"
        },
        "id": "OBTpS4XILxmt",
        "outputId": "c74e515c-7359-49bc-974c-3efc00888a7c"
      },
      "source": [
        "model = Sequential([\n",
        "    \n",
        "        Conv2D(16, (5,5), activation = 'relu', name = 'Conv_1', input_shape = (28,28,1)),\n",
        "        MaxPooling2D(2,2),\n",
        "        Conv2D(32, (5,5), activation = 'relu', name = 'Conv_2'),\n",
        "        MaxPooling2D(2,2),\n",
        "    \n",
        "        Flatten(),\n",
        "        Dense(128,activation = 'relu', name = 'fc_3'),\n",
        "        Dropout(0.3),\n",
        "        Dense(10, activation = 'softmax', name = 'fc_4')\n",
        "\n",
        "])\n",
        "\n",
        "model.summary()"
      ],
      "execution_count": null,
      "outputs": [
        {
          "output_type": "stream",
          "text": [
            "Model: \"sequential_12\"\n",
            "_________________________________________________________________\n",
            "Layer (type)                 Output Shape              Param #   \n",
            "=================================================================\n",
            "Conv_1 (Conv2D)              (None, 24, 24, 16)        416       \n",
            "_________________________________________________________________\n",
            "max_pooling2d (MaxPooling2D) (None, 12, 12, 16)        0         \n",
            "_________________________________________________________________\n",
            "Conv_2 (Conv2D)              (None, 8, 8, 32)          12832     \n",
            "_________________________________________________________________\n",
            "max_pooling2d_1 (MaxPooling2 (None, 4, 4, 32)          0         \n",
            "_________________________________________________________________\n",
            "flatten_2 (Flatten)          (None, 512)               0         \n",
            "_________________________________________________________________\n",
            "fc_3 (Dense)                 (None, 128)               65664     \n",
            "_________________________________________________________________\n",
            "dropout (Dropout)            (None, 128)               0         \n",
            "_________________________________________________________________\n",
            "fc_4 (Dense)                 (None, 10)                1290      \n",
            "=================================================================\n",
            "Total params: 80,202\n",
            "Trainable params: 80,202\n",
            "Non-trainable params: 0\n",
            "_________________________________________________________________\n"
          ],
          "name": "stdout"
        }
      ]
    }
  ]
}